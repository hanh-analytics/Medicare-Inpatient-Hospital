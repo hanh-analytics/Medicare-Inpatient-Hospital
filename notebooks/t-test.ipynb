{
 "cells": [
  {
   "cell_type": "markdown",
   "metadata": {},
   "source": [
    "# **Analyzing the Impact of Policy Changes on Medicare Inpatient Hospital Program Payments Using T-Tests**\n",
    "\n",
    "This analysis aims to assess whether a significant difference exists in Medicare inpatient hospital program payments before and after a policy change in 2019. Using historical data from 2015 to 2021, we perform an **independent t-test** to compare the total program payments across these two periods.  \n",
    "\n",
    "1. **Pre-Policy Period:** 2015–2018  \n",
    "2. **Post-Policy Period:** 2019–2021  \n",
    "\n",
    "To ensure the validity of the t-test, we first conduct a **Shapiro-Wilk normality test** on both periods' data to check for normal distribution. Then, we apply a **Welch’s t-test** (assuming unequal variances) to determine if there is a statistically significant difference in program payments before and after the policy change.  \n",
    "\n",
    "\n",
    "## **Interpretation:**  \n",
    "- If the **p-value < 0.05**, we conclude that there is a significant difference in program payments between the two periods, suggesting that the policy change had an impact.  \n",
    "  \n",
    "- If the **p-value ≥ 0.05**, we conclude that there is no statistically significant difference, indicating that the policy change may not have affected program payments substantially.  \n",
    "\n",
    "This statistical test helps in understanding the financial implications of healthcare policy changes and assists in data-driven decision-making.\n",
    "\n",
    "## **Form Hypotheses:**\n",
    "- Null Hypothesis (H0): There is no significant difference in the mean values before and after the policy change.\n",
    "  \n",
    "- Alternative Hypothesis (H1): There is a significant difference in the mean values before and after the policy change.\n",
    "\n",
    "## **Collect data:**\n",
    "I need to use an additional file to concatenate with the original dataset, which contains data from 2016 to 2021, while the extra file includes data from 2015. The dataset paths are specific to my local machine, so feel free to modify them according to your setup. Since the workbook contains multiple worksheets, we must also specify the exact worksheet we are working with."
   ]
  },
  {
   "cell_type": "markdown",
   "metadata": {},
   "source": [
    "## **Independent T-Test Formula:**\n",
    "\n",
    "The t-statistic for two independent samples is calculated as:\n",
    "\n",
    "$$\n",
    "t = \\frac{\\bar{X_1} - \\bar{X_2}}{\\sqrt{\\frac{s_1^2}{n_1} + \\frac{s_2^2}{n_2}}}\n",
    "$$\n",
    "\n",
    "Where:\n",
    "- $ \\bar{X_1} $ = Mean of the first sample (pre-policy period)  \n",
    "- $ \\bar{X_2} $ = Mean of the second sample (post-policy period)  \n",
    "- $ s_1^2 $ = Variance of the first sample  \n",
    "- $ s_2^2 $ = Variance of the second sample  \n",
    "- $ n_1 $ = Sample size of the first group  \n",
    "- $ n_2 $ = Sample size of the second group \n"
   ]
  },
  {
   "cell_type": "code",
   "execution_count": 17,
   "metadata": {},
   "outputs": [],
   "source": [
    "import pandas as pd\n",
    "import scipy.stats as stats\n",
    "from scipy.stats import shapiro\n",
    "\n",
    "file_path = \"/Users/DELL/Desktop/Projects/CMS Program Statistics - Medicare Inpatient Hospital/2021/CPS MDCR INPT 2021.xlsx\"\n",
    "extra_file = \"/Users/DELL/Desktop/Projects/CMS Program Statistics - Medicare Inpatient Hospital/2021/CPS MDCR INPT 2020.xlsx\"\n"
   ]
  },
  {
   "cell_type": "markdown",
   "metadata": {},
   "source": [
    "## **Clean data:**\n",
    "Here, we will clean and preprocess the data to ensure accuracy in our analysis. Note: We will focus exclusively on the **All Beneficiaries** group, as it provides the most comprehensive and reliable information related to hospital program payments and utilization. We also need to point out which "
   ]
  },
  {
   "cell_type": "code",
   "execution_count": 18,
   "metadata": {},
   "outputs": [],
   "source": [
    "# Read the sheet \"MDCR INPT HOSP 1\" from the Excel file\n",
    "df_1 = pd.read_excel(file_path, sheet_name=\"MDCR INPT HOSP 1\", header=3)\n",
    "# Extract the relevant section\n",
    "all_beneficiaries_index = df_1[df_1[\"Type of Entitlement and Calendar Year\"] == \"All Beneficiaries\"].index\n",
    "\n",
    "if not all_beneficiaries_index.empty:\n",
    "    start_index = all_beneficiaries_index[0] + 1\n",
    "    df_1_all_beneficiaries = df_1.iloc[start_index:start_index + 6].copy()  # <---- Use .copy()\n",
    "\n",
    "    df_1_all_beneficiaries[\"Year\"] = pd.to_numeric(df_1_all_beneficiaries[\"Type of Entitlement and Calendar Year\"], errors='coerce')\n",
    "    df_1_all_beneficiaries = df_1_all_beneficiaries.dropna(subset=[\"Year\", \"Total Discharges\"])\n",
    "    df_1_all_beneficiaries[\"Year\"] = df_1_all_beneficiaries[\"Year\"].astype(int)\n",
    "\n",
    "\n",
    "    # Load extra dataset containing 2015\n",
    "    df_extra = pd.read_excel(extra_file, sheet_name=\"MDCR INPT HOSP 1\", header=4)\n",
    "    df_extra = df_extra.dropna(axis=1, how=\"all\")\n",
    "\n",
    "    df_extra.columns = [\"Type of Entitlement and Calendar Year\", \"Total Original Medicare Part A Enrollees\", \n",
    "                        \"Total Persons With Utilization\", \"Total Discharges\"] + [f\"Unnamed_{i}\" for i in range(len(df_extra.columns)-4)]\n",
    "\n",
    "    df_extra = df_extra.dropna(how=\"all\")\n",
    "\n",
    "    extra_beneficiaries_index = df_extra[df_extra[\"Type of Entitlement and Calendar Year\"] == \"All Beneficiaries\"].index\n",
    "\n",
    "    if not extra_beneficiaries_index.empty:\n",
    "        extra_start_index = extra_beneficiaries_index[0] + 1\n",
    "        df_extra_all_beneficiaries = df_extra.iloc[extra_start_index:extra_start_index + 1].copy()  # <---- Use .copy()\n",
    "\n",
    "        df_extra_all_beneficiaries[\"Year\"] = pd.to_numeric(df_extra_all_beneficiaries[\"Type of Entitlement and Calendar Year\"], errors='coerce')\n",
    "        df_extra_all_beneficiaries = df_extra_all_beneficiaries.dropna(subset=[\"Year\", \"Total Discharges\"])\n",
    "        df_extra_all_beneficiaries[\"Year\"] = df_extra_all_beneficiaries[\"Year\"].astype(int)\n",
    "\n",
    "\n",
    "        # Concatenate both datasets\n",
    "        df_final = pd.concat([df_1_all_beneficiaries, df_extra_all_beneficiaries])\n",
    "\n",
    "        # Sort by Year\n",
    "        df_final = df_final.sort_values(by=\"Year\")\n"
   ]
  },
  {
   "cell_type": "markdown",
   "metadata": {},
   "source": [
    "We need to clearly define the pre-policy and post-policy periods again, using \"Total Discharges\" as the key variable for analysis. \n",
    "\n",
    "## **Shapiro-Wilk Test**\n",
    "The Shapiro-Wilk test is a statistical test used to determine whether a given sample comes from a normally distributed population. It tests the null hypothesis that the data follows a normal distribution.\n",
    "\n",
    "The test returns a test statistic (W) and a p-value. If the p-value is greater than a chosen significance level (typically 0.05), we fail to reject the null hypothesis, suggesting the data is normally distributed. If the p-value is less than the significance level, we reject the null hypothesis, suggesting the data is not normally distributed.\n",
    "\n",
    "### **Formula for the Shapiro-Wilk Test:**\n",
    "The Shapiro-Wilk test statistic (W) is given by\n",
    "\n",
    "$$ W = \\frac{\\left( \\sum_{i=1}^{n} a_i x_i \\right)^2}{\\sum_{i=1}^{n} (x_i - \\bar{x})^2} $$\n",
    "\n",
    "Where:\n",
    "- $W$ = Shapiro-Wilk test statistic (used to test the normality of the sample data).\n",
    "- $n$ = Number of data points in the sample.\n",
    "- $a_i$ = The coefficients derived from the expected values of order statistics of a normally distributed sample.\n",
    "- $x_i$ = The ordered sample values.\n",
    "- $\\bar{x}$ = The sample mean, calculated as $\\bar{x} = \\frac{1}{n} \\sum_{i=1}^{n} x_i$.\n",
    "\n",
    "This formula is used to test the null hypothesis that the sample data comes from a normally distributed population. The closer the value of $W$ is to 1, the more likely the data is normally distributed\n"
   ]
  },
  {
   "cell_type": "code",
   "execution_count": 19,
   "metadata": {},
   "outputs": [
    {
     "name": "stdout",
     "output_type": "stream",
     "text": [
      "Pre-policy normality p-value: 0.15059263497306208\n",
      "Post-policy normality p-value: 0.365028744979078\n"
     ]
    }
   ],
   "source": [
    "# Ensure you're working with the correct dataframe (df_final) for pre-policy and post-policy\n",
    "pre_policy = df_final[df_final['Year'] < 2019]\n",
    "post_policy = df_final[df_final['Year'] >= 2019]\n",
    "\n",
    "# Perform T-test for the 'Program Payment' variable (change to the appropriate column name, e.g., \"Total Program Payments\")\n",
    "pre_policy_values = pre_policy['Total Discharges']  # Change to the column you're analyzing, e.g., 'Program Payment'\n",
    "post_policy_values = post_policy['Total Discharges']  # Change to the column you're analyzing, e.g., 'Program Payment'\n",
    "\n",
    "# Check for normality first (optional, but recommended)\n",
    "_, p_pre = shapiro(pre_policy_values)\n",
    "_, p_post = shapiro(post_policy_values)\n",
    "\n",
    "print(f\"Pre-policy normality p-value: {p_pre}\")\n",
    "print(f\"Post-policy normality p-value: {p_post}\")\n"
   ]
  },
  {
   "cell_type": "markdown",
   "metadata": {},
   "source": [
    "# **Conduct T-Test:**"
   ]
  },
  {
   "cell_type": "code",
   "execution_count": 20,
   "metadata": {},
   "outputs": [
    {
     "name": "stdout",
     "output_type": "stream",
     "text": [
      "0.10689281796953051\n",
      "There is no significant difference in total discharges before and after the policy change.\n"
     ]
    }
   ],
   "source": [
    "# Perform the T-test\n",
    "t_stat, p_value = stats.ttest_ind(pre_policy_values, post_policy_values, equal_var=False)\n",
    "# Output the result\n",
    "print(p_value)\n",
    "if p_value < 0.05:\n",
    "    print(\"There is a significant difference in total discharges before and after the policy change.\")\n",
    "else:\n",
    "    print(\"There is no significant difference in total discharges before and after the policy change.\")"
   ]
  },
  {
   "cell_type": "markdown",
   "metadata": {},
   "source": [
    "Since the T-test result indicated no significant difference, it suggests that the total discharges before and after the policy change did not differ in a statistically meaningful way at the chosen significance level (typically 0.05). Based on this test, it appears that the policy change may not have had a substantial impact on total discharges.\n",
    "\n",
    "Although a sharp drop in total discharges was noticed from 2019 to 2020, the T-test provides important context. It compares the mean total discharges across the entire pre-policy period (2015–2018) and the post-policy period (2019–2021). The sharp drop in 2020 may be attributed to factors that the T-test doesn't account for, such as:\n",
    "\n",
    "1. **Anomalies or Outliers:** The sharp decline in discharges in 2020 could be due to extraordinary external factors, like the COVID-19 pandemic, which caused significant disruptions in hospital operations. This kind of event could drastically affect discharges in a single year, making it an outlier.\n",
    "\n",
    "2. **Yearly Variation:** The T-test examines overall trends and does not isolate yearly fluctuations. Even if 2020 is an outlier, its effect might not be significant enough to alter the overall results, as it is just one year within a larger multi-year comparison.\n",
    "\n",
    "3. **Visual Trends vs. Statistical Significance:** A line graph might highlight sharp changes, like the one observed in 2020, but the T-test focuses on the overall distribution of data. A single year's anomaly may not be enough to influence the mean significantly when averaged with other years."
   ]
  },
  {
   "cell_type": "markdown",
   "metadata": {},
   "source": []
  }
 ],
 "metadata": {
  "kernelspec": {
   "display_name": "myworkspace",
   "language": "python",
   "name": "python3"
  },
  "language_info": {
   "codemirror_mode": {
    "name": "ipython",
    "version": 3
   },
   "file_extension": ".py",
   "mimetype": "text/x-python",
   "name": "python",
   "nbconvert_exporter": "python",
   "pygments_lexer": "ipython3",
   "version": "3.10.0"
  }
 },
 "nbformat": 4,
 "nbformat_minor": 2
}

{
 "cells": [
  {
   "cell_type": "markdown",
   "metadata": {
    "vscode": {
     "languageId": "plaintext"
    }
   },
   "source": [
    "# **Predicting Cost Efficiency Based on Hospital Characteristics**\n",
    "\n",
    "## **Step 1: Define the Problem Statement**\n",
    "\n",
    "### **Goal**:\n",
    "\n",
    "- Predict Cost per Discharge for Medicare IPPS Short Stay & Special-Category Hospitals based on hospital attributes.\n",
    "\n",
    "\n",
    "- Identify which hospital features (bed size, control type, teaching status, entitlement type, etc.) contribute to cost efficiency.\n",
    "\n",
    "### **Target Variable (Y):**\n",
    "\n",
    "$$\n",
    "\\text{Cost per Discharge} = \\frac{\\text{Total Program Payments}}{\\text{Total Discharges}}\n",
    "$$\n",
    "\n",
    "### **Predictor Features (X):**\n",
    "\n",
    "#### **Hospital Characteristics:**\n",
    "- **Location** (*State, Region*)\n",
    "- **Bed Size Category** (*Small, Medium, Large*)\n",
    "- **Medical School Affiliation** (*Yes/No*)\n",
    "- **Control Type** (*Government, Private, Non-Profit*)\n",
    "\n",
    "#### **Utilization Factors:**\n",
    "- **Total Discharges**\n",
    "- **Total Days of Care**\n",
    "\n",
    "#### **Entitlement Factors:**\n",
    "- **Medicare Eligibility Type** (*Age-based vs. Disability-based*)\n",
    "\n",
    "## **Step 2: Data Preparation**\n",
    "\n",
    "#### **Load data from the Worksheet**\n",
    "- Import essential libraries such as `pandas`, `numpy`, `sklearn`, and `matplotlib` for data manipulation, modeling, and visualization. \n",
    "  \n",
    "- Load **Medicare inpatient hospital data** from an Excel file using `pandas.read_excel()`.  \n",
    "  \n",
    "- Strip spaces from column names to ensure consistency.  \n",
    "  \n",
    "- Identify and dynamically extract the relevant hospital category column.\n",
    "\n",
    "\n"
   ]
  },
  {
   "cell_type": "code",
   "execution_count": 26,
   "metadata": {},
   "outputs": [
    {
     "name": "stdout",
     "output_type": "stream",
     "text": [
      "Identified column name: Location and Bedsize of Hospital, Medical School Affiliation and Type of Control\n"
     ]
    }
   ],
   "source": [
    "import pandas as pd\n",
    "\n",
    "# File path\n",
    "file_path = \"/Users/DELL/Desktop/Projects/CMS Program Statistics - Medicare Inpatient Hospital/2021/CPS MDCR INPT 2021.xlsx\"\n",
    "\n",
    "# Load specific sheet with correct header\n",
    "sheet_name = \"MDCR INPT HOSP 9\"\n",
    "df = pd.read_excel(file_path, sheet_name=sheet_name, header=4)  # Read from row 4\n",
    "\n",
    "# Remove leading/trailing spaces in column names\n",
    "df.columns = df.columns.str.strip()\n",
    "\n",
    "# Identify the correct column name dynamically\n",
    "matching_cols = [col for col in df.columns if \"Location and Bedsize\" in col]\n",
    "if matching_cols:\n",
    "    col_name = matching_cols[0]  # Use the first matching column name\n",
    "else:\n",
    "    raise ValueError(\"Could not find the expected column for hospital category.\")\n",
    "\n",
    "# Debugging: Print the identified column name\n",
    "print(f\"Identified column name: {col_name}\")\n"
   ]
  },
  {
   "cell_type": "markdown",
   "metadata": {},
   "source": [
    "## **Step 3: Feature Engineering**\n",
    "\n",
    "* **Create the Target Variable**: Compute **Cost per Discharge** using `Total Program Payments / Total Discharges`.\n",
    "  \n",
    "* **Categorical Encoding**:\n",
    "  \n",
    "  * Convert **bed size categories** into numerical values.\n",
    "  \n",
    "  * Encode **urban vs. rural** and **teaching vs. non-teaching** hospitals as binary variables.\n",
    "  \n",
    "  * Apply **one-hot encoding** for hospital control type (Voluntary, Proprietary, Government).\n"
   ]
  },
  {
   "cell_type": "code",
   "execution_count": 27,
   "metadata": {},
   "outputs": [],
   "source": [
    "# Create the Target Variable (Cost per Discharge)\n",
    "df[\"Cost Per Discharge\"] = df[\"Total Program Payments\"] / df[\"Total Discharges\"]\n",
    "\n",
    "# Extract Bed Size as a Numeric Category\n",
    "bed_size_mapping = {\n",
    "    \"1-99 Beds\": 1,\n",
    "    \"100-299 Beds\": 2,\n",
    "    \"300-499 Beds\": 3,\n",
    "    \"500 Beds or More\": 4\n",
    "}\n",
    "df[\"bed_size\"] = df[col_name].map(bed_size_mapping)"
   ]
  },
  {
   "cell_type": "code",
   "execution_count": 28,
   "metadata": {},
   "outputs": [],
   "source": [
    "# Encode Urban vs. Rural Hospital Location\n",
    "df[\"is_urban\"] = df[col_name].fillna(\"\").apply(\n",
    "    lambda x: 1 if \"Urban\" in str(x) else (0 if \"Rural\" in str(x) else None)\n",
    ")"
   ]
  },
  {
   "cell_type": "markdown",
   "metadata": {},
   "source": [
    "This will create a new column:\n",
    "\n",
    "1 → Urban Hospital\n",
    "\n",
    "0 → Rural Hospital\n",
    "\n",
    "NaN → If the category is not location-based (e.g., teaching hospitals)\n"
   ]
  },
  {
   "cell_type": "code",
   "execution_count": 29,
   "metadata": {},
   "outputs": [],
   "source": [
    "# Encode Teaching vs. Non-Teaching Hospitals\n",
    "df[\"is_teaching\"] = df[col_name].fillna(\"\").apply(\n",
    "    lambda x: 1 if \"Teaching\" in str(x) else (0 if \"Non-Teaching\" in str(x) else None)\n",
    ")"
   ]
  },
  {
   "cell_type": "markdown",
   "metadata": {},
   "source": [
    "1 → Teaching Hospital\n",
    "\n",
    "0 → Non-Teaching Hospital\n",
    "\n",
    "NaN → If the category is not teaching-related"
   ]
  },
  {
   "cell_type": "code",
   "execution_count": 30,
   "metadata": {},
   "outputs": [],
   "source": [
    "# One-Hot Encode \"Type of Control\"\n",
    "df = pd.get_dummies(df, columns=[col_name], prefix=\"control\", dtype=int)"
   ]
  },
  {
   "cell_type": "markdown",
   "metadata": {},
   "source": [
    "The dataset includes: \n",
    "\n",
    "- Voluntary (Non-Profit)\n",
    "\n",
    "- Proprietary (For-Profit)\n",
    "\n",
    "- Government (Public)\n",
    "\n",
    "We can use one-hot encoding to create separate columns:\n",
    "\n",
    "- control_Voluntary → 1 if Voluntary, else 0\n",
    "\n",
    "- control_Proprietary → 1 if Proprietary, else 0\n",
    "\n",
    "- control_Government → 1 if Government, else 0\n"
   ]
  },
  {
   "cell_type": "markdown",
   "metadata": {},
   "source": [
    "# **Step 4: Handling Missing Data**\n",
    "\n",
    "- Apply **median imputation** for missing numerical values.\n",
    "\n",
    "- Fill any remaining missing values with zero."
   ]
  },
  {
   "cell_type": "code",
   "execution_count": 31,
   "metadata": {},
   "outputs": [],
   "source": [
    "from sklearn.impute import SimpleImputer\n",
    "# Handle Missing Values (Fill with Median for Numerical Columns)\n",
    "num_cols = [\"Total Discharges\", \"Total Days of Care\", \"Cost Per Discharge\"]\n",
    "imputer = SimpleImputer(strategy=\"median\")\n",
    "df[num_cols] = imputer.fit_transform(df[num_cols])\n",
    "\n",
    "# Handle any remaining NaNs in other columns (non-numerical columns)\n",
    "df = df.fillna(0)"
   ]
  },
  {
   "cell_type": "markdown",
   "metadata": {},
   "source": [
    "# **Step 5: Feature Selection & Model Training**\n",
    "\n",
    "- Select hospital-related features (`bed size`, `urban status`, `hospital control type`).\n",
    "\n",
    "- Split data into training (80%) and test (20%) sets.\n",
    "\n",
    "- Train and evaluate multiple models:\n",
    "\n",
    "  - Random Forest Regressor (baseline)\n",
    "  \n",
    "  - Linear Regression\n",
    "  \n",
    "  - Gradient Boosting Regressor (XGBoost)"
   ]
  },
  {
   "cell_type": "code",
   "execution_count": 32,
   "metadata": {},
   "outputs": [
    {
     "name": "stdout",
     "output_type": "stream",
     "text": [
      "Random Forest - Mean Absolute Error: 1867.1646697943002\n",
      "Random Forest - R² Score: 0.05319348043763139\n",
      "Linear Regression - Mean Absolute Error: 1724.635519355166\n",
      "Linear Regression - R² Score: 0.033701284876875626\n",
      "Gradient Boosting - Mean Absolute Error: 1930.905661451376\n",
      "Gradient Boosting - R² Score: -0.01751909055990608\n"
     ]
    }
   ],
   "source": [
    "from sklearn.model_selection import train_test_split\n",
    "from sklearn.ensemble import RandomForestRegressor\n",
    "from sklearn.metrics import mean_absolute_error, r2_score\n",
    "from sklearn.linear_model import LinearRegression\n",
    "from sklearn.ensemble import GradientBoostingRegressor\n",
    "# Define features (X) and target (y)\n",
    "X = df[[ 'bed_size', \"is_urban\", 'control_Voluntary', 'control_Proprietary', 'control_Government']]\n",
    "y = df['Cost Per Discharge']\n",
    "\n",
    "# Fix NaNs in feature matrix\n",
    "imputer = SimpleImputer(strategy=\"mean\")  # Try \"median\" or \"most_frequent\" if needed\n",
    "X_imputed = imputer.fit_transform(X)\n",
    "X = pd.DataFrame(X_imputed, columns=X.columns)\n",
    "\n",
    "# Train-test split\n",
    "X_train, X_test, y_train, y_test = train_test_split(X, y, test_size=0.2, random_state=42)\n",
    "\n",
    "# --- Rain Forest Regressor ---\n",
    "rf = RandomForestRegressor(random_state=42)\n",
    "\n",
    "# Fit the model using RandomizedSearchCV\n",
    "rf.fit(X_train, y_train)\n",
    "y_pred_rf = rf.predict(X_test)\n",
    "\n",
    "# Evaluate Random Forest performance\n",
    "print(\"Random Forest - Mean Absolute Error:\", mean_absolute_error(y_test, y_pred_rf))\n",
    "print(\"Random Forest - R² Score:\", r2_score(y_test, y_pred_rf))\n",
    "\n",
    "# --- Linear Regression ---\n",
    "# Train Linear Regression model\n",
    "linear_model = LinearRegression()\n",
    "linear_model.fit(X_train, y_train)\n",
    "\n",
    "# Predict on test set\n",
    "y_pred_linear = linear_model.predict(X_test)\n",
    "\n",
    "# Evaluate performance for Linear Regression\n",
    "print(\"Linear Regression - Mean Absolute Error:\", mean_absolute_error(y_test, y_pred_linear))\n",
    "print(\"Linear Regression - R² Score:\", r2_score(y_test, y_pred_linear))\n",
    "\n",
    "# --- Gradient Boosting (XGBoost) ---\n",
    "# Train Gradient Boosting model\n",
    "gb_model = GradientBoostingRegressor(n_estimators=100, random_state=42)\n",
    "gb_model.fit(X_train, y_train)\n",
    "\n",
    "# Predict on test set\n",
    "y_pred_gb = gb_model.predict(X_test)\n",
    "\n",
    "# Evaluate performance for Gradient Boosting\n",
    "print(\"Gradient Boosting - Mean Absolute Error:\", mean_absolute_error(y_test, y_pred_gb))\n",
    "print(\"Gradient Boosting - R² Score:\", r2_score(y_test, y_pred_gb))\n"
   ]
  },
  {
   "cell_type": "markdown",
   "metadata": {},
   "source": [
    "# **Step 6: Model Evaluation**\n",
    "- Compare models using Mean Absolute Error (MAE) and R² Score to assess accuracy.\n",
    "\n",
    "| Model                  | Mean Absolute Error (MAE) ↓ | R² Score ↑ | Notes |\n",
    "|------------------------|--------------------------|------------|------------------------------|\n",
    "| **Random Forest**      | 1855.61                   | 0.05497    | Weak performance, low R² |\n",
    "| **Linear Regression**  | **1684.35**               | **0.06530**| Best performance overall |\n",
    "| **Gradient Boosting**  | 1932.08                   | -0.01774   | Performs the worst (negative R²) |\n",
    "\n",
    "### **Model Selection: Best Model**\n",
    "1. **Linear Regression is the best model based on**:\n",
    "   - **Lowest MAE (1684.35)** → Predicts closest to the actual cost per discharge.\n",
    "  \n",
    "   - **Highest R² (0.0653)** → Explains slightly more variance than the others.\n",
    "   \n",
    "2. **Random Forest is slightly worse** than Linear Regression (higher MAE, lower R²).\n",
    "   \n",
    "3. **Gradient Boosting performed the worst** (negative R² means it's worse than a simple mean prediction).\n",
    "\n",
    "### **Final Decision** 🎯\n",
    "✅ **Best model for now**: Linear Regression\n",
    "🚀 **Next steps:**  \n",
    "- Try **feature engineering** (new variables, transformations) to improve Linear Regression.  \n",
    "  \n",
    "- If Linear Regression doesn’t improve, **then tune Random Forest** for potential performance gains.  \n",
    "\n",
    "\n",
    "# **Step 7: Features Engineering**\n"
   ]
  },
  {
   "cell_type": "code",
   "execution_count": 33,
   "metadata": {},
   "outputs": [],
   "source": [
    "# --- Feature Engineering ---\n",
    "\n",
    "# 1. Interaction Features\n",
    "df[\"bed_size_is_urban\"] = df[\"bed_size\"] * df[\"is_urban\"]\n",
    "df[\"bed_size_is_teaching\"] = df[\"bed_size\"] * df[\"is_teaching\"]\n",
    "df[\"urban_teaching\"] = df[\"is_urban\"] * df[\"is_teaching\"]\n",
    "\n",
    "# 2. Target Encoding for Region (if applicable)\n",
    "if \"Region\" in df.columns:\n",
    "    region_mean = df.groupby(\"Region\")[\"Cost Per Discharge\"].mean()\n",
    "    df[\"region_encoded\"] = df[\"Region\"].map(region_mean)\n",
    "    df.drop(columns=[\"Region\"], inplace=True)  # Drop original categorical column\n",
    "\n",
    "# 3. Normalize Bed Size (Optional)\n",
    "df[\"bed_size\"] = df[\"bed_size\"] / df[\"bed_size\"].max()  # Scale to [0,1]\n",
    "\n",
    "# Update Feature Selection (X) to include new features\n",
    "X = df[[\n",
    "    'bed_size', 'is_urban', 'is_teaching', 'control_Voluntary', 'control_Proprietary', \n",
    "    'control_Government', 'bed_size_is_urban', 'bed_size_is_teaching', 'urban_teaching'\n",
    "]]\n",
    "\n",
    "# Handle Missing Values\n",
    "imputer = SimpleImputer(strategy=\"mean\")  # Alternative: \"median\"\n",
    "X_imputed = imputer.fit_transform(X)\n",
    "X = pd.DataFrame(X_imputed, columns=X.columns)\n",
    "\n",
    "# Proceed with Train-Test Split\n",
    "X_train, X_test, y_train, y_test = train_test_split(X, y, test_size=0.2, random_state=42)\n",
    "\n"
   ]
  },
  {
   "cell_type": "markdown",
   "metadata": {},
   "source": [
    "## Meaning of the feature engineering:\n",
    "\n",
    "1. Capturing complex relationships 🏥📊\n",
    "\n",
    "    - Interaction terms help capture hospital characteristics better (e.g., urban + teaching status).\n",
    "\n",
    "2. Reducing data sparsity 🧹\n",
    "\n",
    "    - Target encoding avoids high-dimensional one-hot encoding when dealing with many categories.\n",
    "\n",
    "3. Enhancing model interpretability 📈\n",
    "\n",
    "    - Now, we can analyze which hospital factors contribute most to cost per discharge."
   ]
  },
  {
   "cell_type": "code",
   "execution_count": 34,
   "metadata": {},
   "outputs": [
    {
     "name": "stdout",
     "output_type": "stream",
     "text": [
      "Linear Regression - Mean Absolute Error: 1782.0783269760468\n",
      "Linear Regression - R² Score: 0.03868424102730739\n"
     ]
    }
   ],
   "source": [
    "# Train Linear Regression model\n",
    "linear_model = LinearRegression()\n",
    "linear_model.fit(X_train, y_train)\n",
    "\n",
    "# Predict on test set\n",
    "y_pred_linear = linear_model.predict(X_test)\n",
    "\n",
    "# Evaluate Linear Regression\n",
    "print(\"Linear Regression - Mean Absolute Error:\", mean_absolute_error(y_test, y_pred_linear))\n",
    "print(\"Linear Regression - R² Score:\", r2_score(y_test, y_pred_linear))\n"
   ]
  },
  {
   "cell_type": "markdown",
   "metadata": {},
   "source": [
    "### **Interpretation of Model Performance (MAE & R²) in Context of the Data**\n",
    "\n",
    "#### **1. Mean Absolute Error (MAE)**\n",
    "\n",
    "- **MAE (Linear Regression):** **1,782.08**  \n",
    "  \n",
    "  - This means that, on average, the model's predictions for **Cost Per Discharge** deviate by about **$1,782** from the actual values.  \n",
    "  \n",
    "  - Given that hospital costs can vary significantly, this might be a **moderate-to-high error**, depending on the scale of the costs in your dataset.  \n",
    "  \n",
    "  - If the average cost per discharge is, say, **$10,000**, then an error of **$1,782** suggests around **17.8% deviation**, which may or may not be acceptable depending on industry standards.\n",
    "\n",
    "#### **2. R² Score (Coefficient of Determination)**\n",
    "\n",
    "- **R² Score (Linear Regression):** **0.0387** (≈ 3.87%)  \n",
    "  \n",
    "  - This indicates that the model explains **only 3.87% of the variance** in hospital **Cost Per Discharge** based on the selected features. \n",
    "   \n",
    "  - In other words, **the model is not capturing much of the actual variability** in the cost per discharge, suggesting that there are other influential factors missing from the model.\n",
    "\n",
    "\n",
    "### **What This Means for the Data**  \n",
    "1. **The current features (bed size, urban/rural, type of control, etc.) are weak predictors** of cost per discharge. \n",
    "    \n",
    "2. **Hospital costs are likely influenced by other factors**, such as:\n",
    "   - Patient case mix (severity of illness, type of procedures)\n",
    "  \n",
    "   - Staffing levels and labor costs\n",
    "  \n",
    "   - Hospital efficiency & operational costs\n",
    "\n",
    "   - Regional economic factors\n",
    "\n",
    "   - Insurance reimbursements & payment structures\n",
    "\n",
    "# **Step 8: Feature Importance**\n",
    " \n",
    "\n",
    "\n"
   ]
  },
  {
   "cell_type": "code",
   "execution_count": 35,
   "metadata": {},
   "outputs": [
    {
     "data": {
      "image/png": "[encoded data removed]",
      "text/plain": [
       "<Figure size 1200x600 with 1 Axes>"
      ]
     },
     "metadata": {},
     "output_type": "display_data"
    }
   ],
   "source": [
    "import numpy as np\n",
    "import matplotlib.pyplot as plt\n",
    "# Extract feature importance using coefficients\n",
    "feature_importances = np.abs(linear_model.coef_)\n",
    "\n",
    "# Get feature names\n",
    "features = np.array(X.columns)\n",
    "\n",
    "# Plot feature importances\n",
    "plt.figure(figsize=(12, 6))\n",
    "plt.barh(features, feature_importances)\n",
    "plt.xlabel(\"Feature Coefficient Magnitude\")\n",
    "plt.ylabel(\"Feature\")\n",
    "plt.title(\"Impact of Hospital Features on Cost per Discharge (Linear Regression)\")\n",
    "plt.show()\n"
   ]
  },
  {
   "cell_type": "markdown",
   "metadata": {},
   "source": [
    "### **Interpretation of Feature Importance in Predicting Cost Per Discharge**\n",
    "\n",
    "Given the order of feature importance:  \n",
    "\n",
    "1. `control_Voluntary` (Highest Importance) \n",
    "   \n",
    "2. `is_urban` (Second Highest)\n",
    "   \n",
    "3. `bed_size` (Third Place, but relatively lower than top two)\n",
    "   \n",
    "4. `control_Government` (Lower Importance)\n",
    "   \n",
    "5. `is_teaching` (Slightly lower than `control_Government`)\n",
    "    \n",
    "6. `bed_size` (Lowest Importance) \n",
    "\n",
    "#### **What This Means:**\n",
    "\n",
    "1. **Voluntary Hospitals (`control_Voluntary`) Have the Strongest Influence**  \n",
    "   \n",
    "   - The type of control (voluntary/non-profit) plays the biggest role in predicting **Cost Per Discharge**.  \n",
    "   - **Possible explanation:** \n",
    "\n",
    "     - Voluntary (non-profit) hospitals might have different financial structures, funding sources, and patient case mixes compared to government or proprietary hospitals.\n",
    "      \n",
    "     - They may have higher efficiency in cost management or provide more charity care that impacts costs.\n",
    "\n",
    "2. **Urban vs. Rural (`is_urban`) is the Second Most Important Factor**  \n",
    "   \n",
    "   - Whether a hospital is in an urban or rural setting significantly affects cost per discharge.  \n",
    "  \n",
    "   - **Possible explanation:**  \n",
    "     - Urban hospitals tend to have higher operational costs (higher wages, rent, technology investment).\n",
    "\n",
    "     - They may serve more complex cases, increasing overall cost per patient.\n",
    "\n",
    "3. **Bed Size (`bed_size`) Has a Moderate but Lower Influence**  \n",
    "  \n",
    "   - Larger hospitals may not necessarily lead to significantly higher or lower costs per discharge.\n",
    "  \n",
    "   - **Possible explanation:**  \n",
    "    \n",
    "     - Efficiency of operations matters more than size alone.\n",
    " \n",
    "     - Some large hospitals benefit from economies of scale, while others may have high administrative costs.\n",
    "\n",
    "4. **Government-Controlled Hospitals (`control_Government`) Have Less Predictive Power**\n",
    "    \n",
    "   - The influence of government-owned hospitals is lower compared to voluntary hospitals.\n",
    "    \n",
    "   - **Possible explanation:**  \n",
    "    \n",
    "     - Government hospitals may have regulated pricing structures or subsidies that reduce variability in costs.\n",
    "\n",
    "5. **Teaching Status (`is_teaching`) Has Relatively Low Impact**\n",
    "  \n",
    "   - Teaching hospitals have a small effect on cost per discharge compared to other factors.  \n",
    "    \n",
    "   - **Possible explanation:**\n",
    "      \n",
    "     - While teaching hospitals often have higher costs (due to research and training), this may be offset by government funding or specific reimbursement models.\n",
    "\n",
    "6. **Bed Size (Again, Confirmed as Lowest Importance)**  \n",
    "   \n",
    "   - Hospital bed size has the least impact on cost per discharge.  \n",
    "   \n",
    "   - **Possible explanation:**  \n",
    "   \n",
    "     - It’s not the number of beds but how they are utilized that determines cost efficiency.\n",
    "\n",
    "\n",
    "\n",
    "### **Key Takeaways:**\n",
    "- Hospital control type and urban location are the most critical predictors of cost per discharge.\n",
    " \n",
    "- Bed size and teaching status play a smaller role, meaning that a hospital’s structure alone does not fully explain cost variations.\n",
    " \n",
    "\n",
    "\n",
    "\n"
   ]
  }
 ],
 "metadata": {
  "kernelspec": {
   "display_name": "myworkspace",
   "language": "python",
   "name": "python3"
  },
  "language_info": {
   "codemirror_mode": {
    "name": "ipython",
    "version": 3
   },
   "file_extension": ".py",
   "mimetype": "text/x-python",
   "name": "python",
   "nbconvert_exporter": "python",
   "pygments_lexer": "ipython3",
   "version": "3.10.0"
  }
 },
 "nbformat": 4,
 "nbformat_minor": 2
}
